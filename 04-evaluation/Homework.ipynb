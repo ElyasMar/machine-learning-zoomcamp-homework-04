{
 "cells": [
  {
   "cell_type": "code",
   "execution_count": 1,
   "id": "991c434f-236f-40d1-a978-8d739e70cb92",
   "metadata": {},
   "outputs": [],
   "source": [
    "import numpy as np\n",
    "import pandas as pd\n",
    "from sklearn.model_selection import train_test_split, KFold\n",
    "from sklearn.metrics import roc_auc_score, precision_recall_curve\n",
    "from sklearn.linear_model import LogisticRegression\n",
    "from sklearn.feature_extraction import DictVectorizer\n",
    "import matplotlib.pyplot as plt\n",
    "from sklearn.metrics import roc_auc_score"
   ]
  },
  {
   "cell_type": "code",
   "execution_count": 2,
   "id": "906f230b-0e2e-4dab-804a-1e1a859e2c8c",
   "metadata": {},
   "outputs": [
    {
     "data": {
      "text/html": [
       "<div>\n",
       "<style scoped>\n",
       "    .dataframe tbody tr th:only-of-type {\n",
       "        vertical-align: middle;\n",
       "    }\n",
       "\n",
       "    .dataframe tbody tr th {\n",
       "        vertical-align: top;\n",
       "    }\n",
       "\n",
       "    .dataframe thead th {\n",
       "        text-align: right;\n",
       "    }\n",
       "</style>\n",
       "<table border=\"1\" class=\"dataframe\">\n",
       "  <thead>\n",
       "    <tr style=\"text-align: right;\">\n",
       "      <th></th>\n",
       "      <th>lead_source</th>\n",
       "      <th>industry</th>\n",
       "      <th>number_of_courses_viewed</th>\n",
       "      <th>annual_income</th>\n",
       "      <th>employment_status</th>\n",
       "      <th>location</th>\n",
       "      <th>interaction_count</th>\n",
       "      <th>lead_score</th>\n",
       "      <th>converted</th>\n",
       "    </tr>\n",
       "  </thead>\n",
       "  <tbody>\n",
       "    <tr>\n",
       "      <th>0</th>\n",
       "      <td>paid_ads</td>\n",
       "      <td>NaN</td>\n",
       "      <td>1</td>\n",
       "      <td>79450.0</td>\n",
       "      <td>unemployed</td>\n",
       "      <td>south_america</td>\n",
       "      <td>4</td>\n",
       "      <td>0.94</td>\n",
       "      <td>1</td>\n",
       "    </tr>\n",
       "    <tr>\n",
       "      <th>1</th>\n",
       "      <td>social_media</td>\n",
       "      <td>retail</td>\n",
       "      <td>1</td>\n",
       "      <td>46992.0</td>\n",
       "      <td>employed</td>\n",
       "      <td>south_america</td>\n",
       "      <td>1</td>\n",
       "      <td>0.80</td>\n",
       "      <td>0</td>\n",
       "    </tr>\n",
       "    <tr>\n",
       "      <th>2</th>\n",
       "      <td>events</td>\n",
       "      <td>healthcare</td>\n",
       "      <td>5</td>\n",
       "      <td>78796.0</td>\n",
       "      <td>unemployed</td>\n",
       "      <td>australia</td>\n",
       "      <td>3</td>\n",
       "      <td>0.69</td>\n",
       "      <td>1</td>\n",
       "    </tr>\n",
       "    <tr>\n",
       "      <th>3</th>\n",
       "      <td>paid_ads</td>\n",
       "      <td>retail</td>\n",
       "      <td>2</td>\n",
       "      <td>83843.0</td>\n",
       "      <td>NaN</td>\n",
       "      <td>australia</td>\n",
       "      <td>1</td>\n",
       "      <td>0.87</td>\n",
       "      <td>0</td>\n",
       "    </tr>\n",
       "    <tr>\n",
       "      <th>4</th>\n",
       "      <td>referral</td>\n",
       "      <td>education</td>\n",
       "      <td>3</td>\n",
       "      <td>85012.0</td>\n",
       "      <td>self_employed</td>\n",
       "      <td>europe</td>\n",
       "      <td>3</td>\n",
       "      <td>0.62</td>\n",
       "      <td>1</td>\n",
       "    </tr>\n",
       "  </tbody>\n",
       "</table>\n",
       "</div>"
      ],
      "text/plain": [
       "    lead_source    industry  number_of_courses_viewed  annual_income  \\\n",
       "0      paid_ads         NaN                         1        79450.0   \n",
       "1  social_media      retail                         1        46992.0   \n",
       "2        events  healthcare                         5        78796.0   \n",
       "3      paid_ads      retail                         2        83843.0   \n",
       "4      referral   education                         3        85012.0   \n",
       "\n",
       "  employment_status       location  interaction_count  lead_score  converted  \n",
       "0        unemployed  south_america                  4        0.94          1  \n",
       "1          employed  south_america                  1        0.80          0  \n",
       "2        unemployed      australia                  3        0.69          1  \n",
       "3               NaN      australia                  1        0.87          0  \n",
       "4     self_employed         europe                  3        0.62          1  "
      ]
     },
     "execution_count": 2,
     "metadata": {},
     "output_type": "execute_result"
    }
   ],
   "source": [
    "# Load\n",
    "url = \"https://raw.githubusercontent.com/alexeygrigorev/datasets/master/course_lead_scoring.csv\"\n",
    "df = pd.read_csv(url)\n",
    "df.head()"
   ]
  },
  {
   "cell_type": "code",
   "execution_count": 3,
   "id": "42797b31-7e03-4333-8638-e1a76d72f63d",
   "metadata": {},
   "outputs": [],
   "source": [
    "cat_cols = df.select_dtypes(['object']).columns\n",
    "num_cols = df.select_dtypes(exclude=['object']).columns\n",
    "\n",
    "df[cat_cols] = df[cat_cols].fillna('NA')\n",
    "df[num_cols] = df[num_cols].fillna(0.0)"
   ]
  },
  {
   "cell_type": "code",
   "execution_count": 4,
   "id": "343e8745-ed73-4515-bbb9-0a4ab7fbdb78",
   "metadata": {},
   "outputs": [
    {
     "data": {
      "text/plain": [
       "(876, 293, 293)"
      ]
     },
     "execution_count": 4,
     "metadata": {},
     "output_type": "execute_result"
    }
   ],
   "source": [
    "df_full_train, df_test = train_test_split(df, test_size=0.2, random_state=1)\n",
    "df_train, df_val = train_test_split(df_full_train, test_size=0.25, random_state=1)  # 0.25 × 0.8 = 0.2\n",
    "for d in (df_train, df_val, df_test):\n",
    "    d.reset_index(drop=True, inplace=True)\n",
    "\n",
    "len(df_train), len(df_val), len(df_test)"
   ]
  },
  {
   "cell_type": "code",
   "execution_count": 5,
   "id": "b6c49a32-c88a-4610-8567-6d1d6f3fb46d",
   "metadata": {},
   "outputs": [
    {
     "data": {
      "text/plain": [
       "{'lead_score': 0.614,\n",
       " 'number_of_courses_viewed': 0.764,\n",
       " 'interaction_count': 0.738,\n",
       " 'annual_income': 0.552}"
      ]
     },
     "execution_count": 5,
     "metadata": {},
     "output_type": "execute_result"
    }
   ],
   "source": [
    "target = 'converted'\n",
    "numerical = ['lead_score', 'number_of_courses_viewed', 'interaction_count', 'annual_income']\n",
    "\n",
    "scores = {}\n",
    "for col in numerical:\n",
    "    auc = roc_auc_score(df_train[target], df_train[col])\n",
    "    if auc < 0.5:\n",
    "        auc = roc_auc_score(df_train[target], -df_train[col])\n",
    "    scores[col] = round(auc, 3)\n",
    "\n",
    "scores"
   ]
  },
  {
   "cell_type": "code",
   "execution_count": 6,
   "id": "13d50223-4a26-419b-a415-dec06eed588f",
   "metadata": {},
   "outputs": [
    {
     "data": {
      "text/plain": [
       "0.817"
      ]
     },
     "execution_count": 6,
     "metadata": {},
     "output_type": "execute_result"
    }
   ],
   "source": [
    "# Prepare features\n",
    "features = df_train.drop(columns=[target])\n",
    "y_train = df_train[target]\n",
    "X_val = df_val.drop(columns=[target])\n",
    "y_val = df_val[target]\n",
    "\n",
    "# One-hot encode via DictVectorizer\n",
    "dv = DictVectorizer(sparse=False)\n",
    "\n",
    "train_dicts = features.to_dict(orient='records')\n",
    "X_train_dv = dv.fit_transform(train_dicts)\n",
    "\n",
    "val_dicts = X_val.to_dict(orient='records')\n",
    "X_val_dv = dv.transform(val_dicts)\n",
    "\n",
    "# Model\n",
    "model = LogisticRegression(solver='liblinear', C=1.0, max_iter=1000)\n",
    "model.fit(X_train_dv, y_train)\n",
    "\n",
    "y_pred = model.predict_proba(X_val_dv)[:, 1]\n",
    "auc = roc_auc_score(y_val, y_pred)\n",
    "round(auc, 3)"
   ]
  },
  {
   "cell_type": "code",
   "execution_count": 7,
   "id": "4f31ceae-97a0-44df-ae4d-f0f3edf4fa71",
   "metadata": {},
   "outputs": [
    {
     "data": {
      "image/png": "[encoded data removed]",
      "text/plain": [
       "<Figure size 600x400 with 1 Axes>"
      ]
     },
     "metadata": {},
     "output_type": "display_data"
    },
    {
     "data": {
      "text/plain": [
       "np.float64(0.644)"
      ]
     },
     "execution_count": 7,
     "metadata": {},
     "output_type": "execute_result"
    }
   ],
   "source": [
    "prec, rec, thresholds = precision_recall_curve(y_val, y_pred)\n",
    "\n",
    "plt.figure(figsize=(6,4))\n",
    "plt.plot(thresholds, prec[:-1], label='Precision')\n",
    "plt.plot(thresholds, rec[:-1], label='Recall')\n",
    "plt.xlabel(\"Threshold\")\n",
    "plt.legend()\n",
    "plt.show()\n",
    "\n",
    "# Find intersection point (where difference is minimal)\n",
    "idx = np.argmin(np.abs(prec[:-1] - rec[:-1]))\n",
    "round(thresholds[idx], 3)"
   ]
  },
  {
   "cell_type": "code",
   "execution_count": 8,
   "id": "bc03f937-b291-4298-9118-952d3cd3939b",
   "metadata": {},
   "outputs": [
    {
     "data": {
      "text/plain": [
       "np.float64(0.55)"
      ]
     },
     "execution_count": 8,
     "metadata": {},
     "output_type": "execute_result"
    }
   ],
   "source": [
    "f1 = 2 * (prec[:-1] * rec[:-1]) / (prec[:-1] + rec[:-1])\n",
    "best_idx = np.argmax(f1)\n",
    "round(thresholds[best_idx], 2)"
   ]
  },
  {
   "cell_type": "code",
   "execution_count": 9,
   "id": "c010a6ec-a798-42ff-baff-8b557c654614",
   "metadata": {},
   "outputs": [
    {
     "data": {
      "text/plain": [
       "(np.float64(0.822), np.float64(0.036))"
      ]
     },
     "execution_count": 9,
     "metadata": {},
     "output_type": "execute_result"
    }
   ],
   "source": [
    "df_full_train = df_full_train.reset_index(drop=True)\n",
    "y_full = df_full_train[target]\n",
    "\n",
    "kfold = KFold(n_splits=5, shuffle=True, random_state=1)\n",
    "scores = []\n",
    "\n",
    "for train_idx, val_idx in kfold.split(df_full_train):\n",
    "    df_tr = df_full_train.iloc[train_idx]\n",
    "    df_va = df_full_train.iloc[val_idx]\n",
    "    y_tr, y_va = df_tr[target], df_va[target]\n",
    "    \n",
    "    dv = DictVectorizer(sparse=False)\n",
    "    X_tr = dv.fit_transform(df_tr.drop(columns=[target]).to_dict(orient='records'))\n",
    "    X_va = dv.transform(df_va.drop(columns=[target]).to_dict(orient='records'))\n",
    "    \n",
    "    model = LogisticRegression(solver='liblinear', C=1.0, max_iter=1000)\n",
    "    model.fit(X_tr, y_tr)\n",
    "    y_pred = model.predict_proba(X_va)[:,1]\n",
    "    scores.append(roc_auc_score(y_va, y_pred))\n",
    "\n",
    "mean_auc = np.mean(scores)\n",
    "std_auc = np.std(scores)\n",
    "round(mean_auc,3), round(std_auc,3)"
   ]
  },
  {
   "cell_type": "code",
   "execution_count": 10,
   "id": "b44d6de5-efb7-4a53-a423-508be8431637",
   "metadata": {},
   "outputs": [
    {
     "data": {
      "text/plain": [
       "{1e-06: (np.float64(0.56), np.float64(0.024)),\n",
       " 0.001: (np.float64(0.867), np.float64(0.029)),\n",
       " 1: (np.float64(0.822), np.float64(0.036))}"
      ]
     },
     "execution_count": 10,
     "metadata": {},
     "output_type": "execute_result"
    }
   ],
   "source": [
    "C_values = [0.000001, 0.001, 1]\n",
    "kfold = KFold(n_splits=5, shuffle=True, random_state=1)\n",
    "\n",
    "results = {}\n",
    "\n",
    "for c in C_values:\n",
    "    fold_scores = []\n",
    "    for train_idx, val_idx in kfold.split(df_full_train):\n",
    "        df_tr = df_full_train.iloc[train_idx]\n",
    "        df_va = df_full_train.iloc[val_idx]\n",
    "        y_tr, y_va = df_tr[target], df_va[target]\n",
    "        \n",
    "        dv = DictVectorizer(sparse=False)\n",
    "        X_tr = dv.fit_transform(df_tr.drop(columns=[target]).to_dict(orient='records'))\n",
    "        X_va = dv.transform(df_va.drop(columns=[target]).to_dict(orient='records'))\n",
    "        \n",
    "        model = LogisticRegression(solver='liblinear', C=c, max_iter=1000)\n",
    "        model.fit(X_tr, y_tr)\n",
    "        y_pred = model.predict_proba(X_va)[:,1]\n",
    "        fold_scores.append(roc_auc_score(y_va, y_pred))\n",
    "    \n",
    "    results[c] = (round(np.mean(fold_scores),3), round(np.std(fold_scores),3))\n",
    "\n",
    "results"
   ]
  },
  {
   "cell_type": "code",
   "execution_count": null,
   "id": "e61d1226-7b8f-4a31-a544-b789fcbfe1ba",
   "metadata": {},
   "outputs": [],
   "source": []
  }
 ],
 "metadata": {
  "kernelspec": {
   "display_name": "Python 3 (ipykernel)",
   "language": "python",
   "name": "python3"
  },
  "language_info": {
   "codemirror_mode": {
    "name": "ipython",
    "version": 3
   },
   "file_extension": ".py",
   "mimetype": "text/x-python",
   "name": "python",
   "nbconvert_exporter": "python",
   "pygments_lexer": "ipython3",
   "version": "3.12.1"
  }
 },
 "nbformat": 4,
 "nbformat_minor": 5
}
